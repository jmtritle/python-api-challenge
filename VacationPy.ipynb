{
 "cells": [
  {
   "cell_type": "markdown",
   "metadata": {},
   "source": [
    "# VacationPy\n",
    "----\n",
    "\n",
    "#### Note\n",
    "* Instructions have been included for each segment. You do not have to follow them exactly, but they are included to help you think through the steps."
   ]
  },
  {
   "cell_type": "code",
   "execution_count": 1,
   "metadata": {},
   "outputs": [],
   "source": [
    "# Dependencies and Setup\n",
    "import matplotlib.pyplot as plt\n",
    "import pandas as pd\n",
    "import numpy as np\n",
    "import requests\n",
    "import gmaps\n",
    "import os\n",
    "from pprint import pprint\n",
    "\n",
    "# Import API key\n",
    "from api_keys import g_key\n"
   ]
  },
  {
   "cell_type": "markdown",
   "metadata": {},
   "source": [
    "### Store Part I results into DataFrame\n",
    "* Load the csv exported in Part I to a DataFrame"
   ]
  },
  {
   "cell_type": "code",
   "execution_count": 2,
   "metadata": {},
   "outputs": [
    {
     "data": {
      "text/html": [
       "<div>\n",
       "<style scoped>\n",
       "    .dataframe tbody tr th:only-of-type {\n",
       "        vertical-align: middle;\n",
       "    }\n",
       "\n",
       "    .dataframe tbody tr th {\n",
       "        vertical-align: top;\n",
       "    }\n",
       "\n",
       "    .dataframe thead th {\n",
       "        text-align: right;\n",
       "    }\n",
       "</style>\n",
       "<table border=\"1\" class=\"dataframe\">\n",
       "  <thead>\n",
       "    <tr style=\"text-align: right;\">\n",
       "      <th></th>\n",
       "      <th>City</th>\n",
       "      <th>Cloudiness</th>\n",
       "      <th>Country</th>\n",
       "      <th>Date</th>\n",
       "      <th>Humidity</th>\n",
       "      <th>Lat</th>\n",
       "      <th>Lon</th>\n",
       "      <th>Max Temp</th>\n",
       "      <th>Wind Speed</th>\n",
       "    </tr>\n",
       "  </thead>\n",
       "  <tbody>\n",
       "    <tr>\n",
       "      <th>0</th>\n",
       "      <td>hilo</td>\n",
       "      <td>1</td>\n",
       "      <td>US</td>\n",
       "      <td>1580178285</td>\n",
       "      <td>54</td>\n",
       "      <td>19.73</td>\n",
       "      <td>-155.09</td>\n",
       "      <td>80.60</td>\n",
       "      <td>13.87</td>\n",
       "    </tr>\n",
       "    <tr>\n",
       "      <th>1</th>\n",
       "      <td>aykhal</td>\n",
       "      <td>0</td>\n",
       "      <td>RU</td>\n",
       "      <td>1580178285</td>\n",
       "      <td>69</td>\n",
       "      <td>66.00</td>\n",
       "      <td>111.50</td>\n",
       "      <td>-11.20</td>\n",
       "      <td>4.47</td>\n",
       "    </tr>\n",
       "    <tr>\n",
       "      <th>2</th>\n",
       "      <td>butaritari</td>\n",
       "      <td>95</td>\n",
       "      <td>KI</td>\n",
       "      <td>1580178285</td>\n",
       "      <td>78</td>\n",
       "      <td>3.07</td>\n",
       "      <td>172.79</td>\n",
       "      <td>84.47</td>\n",
       "      <td>23.11</td>\n",
       "    </tr>\n",
       "    <tr>\n",
       "      <th>3</th>\n",
       "      <td>cidreira</td>\n",
       "      <td>77</td>\n",
       "      <td>BR</td>\n",
       "      <td>1580178286</td>\n",
       "      <td>77</td>\n",
       "      <td>-30.18</td>\n",
       "      <td>-50.21</td>\n",
       "      <td>74.30</td>\n",
       "      <td>12.68</td>\n",
       "    </tr>\n",
       "    <tr>\n",
       "      <th>4</th>\n",
       "      <td>cockburn town</td>\n",
       "      <td>25</td>\n",
       "      <td>TC</td>\n",
       "      <td>1580178286</td>\n",
       "      <td>76</td>\n",
       "      <td>21.46</td>\n",
       "      <td>-71.14</td>\n",
       "      <td>76.39</td>\n",
       "      <td>10.16</td>\n",
       "    </tr>\n",
       "  </tbody>\n",
       "</table>\n",
       "</div>"
      ],
      "text/plain": [
       "            City  Cloudiness Country        Date  Humidity    Lat     Lon  \\\n",
       "0           hilo           1      US  1580178285        54  19.73 -155.09   \n",
       "1         aykhal           0      RU  1580178285        69  66.00  111.50   \n",
       "2     butaritari          95      KI  1580178285        78   3.07  172.79   \n",
       "3       cidreira          77      BR  1580178286        77 -30.18  -50.21   \n",
       "4  cockburn town          25      TC  1580178286        76  21.46  -71.14   \n",
       "\n",
       "   Max Temp  Wind Speed  \n",
       "0     80.60       13.87  \n",
       "1    -11.20        4.47  \n",
       "2     84.47       23.11  \n",
       "3     74.30       12.68  \n",
       "4     76.39       10.16  "
      ]
     },
     "execution_count": 2,
     "metadata": {},
     "output_type": "execute_result"
    }
   ],
   "source": [
    "weather_data = 'city_data.csv'\n",
    "weather_df = pd.read_csv(weather_data)\n",
    "weather_df.head()"
   ]
  },
  {
   "cell_type": "markdown",
   "metadata": {},
   "source": [
    "### Humidity Heatmap\n",
    "* Configure gmaps.\n",
    "* Use the Lat and Lng as locations and Humidity as the weight.\n",
    "* Add Heatmap layer to map."
   ]
  },
  {
   "cell_type": "code",
   "execution_count": 3,
   "metadata": {},
   "outputs": [
    {
     "data": {
      "application/vnd.jupyter.widget-view+json": {
       "model_id": "e7697ceacc8148b5abd27879cd2cbf2b",
       "version_major": 2,
       "version_minor": 0
      },
      "text/plain": [
       "Figure(layout=FigureLayout(height='420px'))"
      ]
     },
     "metadata": {},
     "output_type": "display_data"
    }
   ],
   "source": [
    "# Configuring gmaps with google key\n",
    "\n",
    "gmaps.configure(api_key=g_key)\n",
    "\n",
    "base_map = gmaps.figure(center=(20.0, 0.0), zoom_level=2)\n",
    "\n",
    "# Setting lat_lon as Lat(itude) and Lon(gitude), as well as setting Humidity as a separate variable\n",
    "lat_lon = weather_df[['Lat', 'Lon']].astype(float)\n",
    "humidity = weather_df['Humidity'].astype(float)\n",
    "\n",
    "# Generating the heat layer\n",
    "heat_layer = gmaps.heatmap_layer(lat_lon, weights=humidity, \n",
    "                                 dissipating=False, max_intensity=100,\n",
    "                                 point_radius = 1)\n",
    "\n",
    "# Smooshing everything together all nicely\n",
    "base_map.add_layer(heat_layer)\n",
    "base_map"
   ]
  },
  {
   "cell_type": "markdown",
   "metadata": {},
   "source": [
    "### Create new DataFrame fitting weather criteria\n",
    "* Narrow down the cities to fit weather conditions.\n",
    "* Drop any rows will null values."
   ]
  },
  {
   "cell_type": "code",
   "execution_count": 4,
   "metadata": {
    "scrolled": true
   },
   "outputs": [
    {
     "data": {
      "text/html": [
       "<div>\n",
       "<style scoped>\n",
       "    .dataframe tbody tr th:only-of-type {\n",
       "        vertical-align: middle;\n",
       "    }\n",
       "\n",
       "    .dataframe tbody tr th {\n",
       "        vertical-align: top;\n",
       "    }\n",
       "\n",
       "    .dataframe thead th {\n",
       "        text-align: right;\n",
       "    }\n",
       "</style>\n",
       "<table border=\"1\" class=\"dataframe\">\n",
       "  <thead>\n",
       "    <tr style=\"text-align: right;\">\n",
       "      <th></th>\n",
       "      <th>City</th>\n",
       "      <th>Cloudiness</th>\n",
       "      <th>Country</th>\n",
       "      <th>Date</th>\n",
       "      <th>Humidity</th>\n",
       "      <th>Lat</th>\n",
       "      <th>Lon</th>\n",
       "      <th>Max Temp</th>\n",
       "      <th>Wind Speed</th>\n",
       "    </tr>\n",
       "  </thead>\n",
       "  <tbody>\n",
       "    <tr>\n",
       "      <th>30</th>\n",
       "      <td>san patricio</td>\n",
       "      <td>5</td>\n",
       "      <td>MX</td>\n",
       "      <td>1580178289</td>\n",
       "      <td>83</td>\n",
       "      <td>19.22</td>\n",
       "      <td>-104.70</td>\n",
       "      <td>75.20</td>\n",
       "      <td>5.82</td>\n",
       "    </tr>\n",
       "    <tr>\n",
       "      <th>50</th>\n",
       "      <td>pontes e lacerda</td>\n",
       "      <td>4</td>\n",
       "      <td>BR</td>\n",
       "      <td>1580178291</td>\n",
       "      <td>86</td>\n",
       "      <td>-15.23</td>\n",
       "      <td>-59.34</td>\n",
       "      <td>75.76</td>\n",
       "      <td>1.57</td>\n",
       "    </tr>\n",
       "    <tr>\n",
       "      <th>325</th>\n",
       "      <td>maues</td>\n",
       "      <td>3</td>\n",
       "      <td>BR</td>\n",
       "      <td>1580178321</td>\n",
       "      <td>87</td>\n",
       "      <td>-3.38</td>\n",
       "      <td>-57.72</td>\n",
       "      <td>76.14</td>\n",
       "      <td>2.08</td>\n",
       "    </tr>\n",
       "    <tr>\n",
       "      <th>408</th>\n",
       "      <td>fougamou</td>\n",
       "      <td>0</td>\n",
       "      <td>GA</td>\n",
       "      <td>1580178331</td>\n",
       "      <td>95</td>\n",
       "      <td>-1.22</td>\n",
       "      <td>10.58</td>\n",
       "      <td>73.89</td>\n",
       "      <td>1.19</td>\n",
       "    </tr>\n",
       "    <tr>\n",
       "      <th>412</th>\n",
       "      <td>mandasa</td>\n",
       "      <td>4</td>\n",
       "      <td>IN</td>\n",
       "      <td>1580178332</td>\n",
       "      <td>73</td>\n",
       "      <td>18.87</td>\n",
       "      <td>84.47</td>\n",
       "      <td>73.40</td>\n",
       "      <td>4.83</td>\n",
       "    </tr>\n",
       "    <tr>\n",
       "      <th>547</th>\n",
       "      <td>barahona</td>\n",
       "      <td>1</td>\n",
       "      <td>DO</td>\n",
       "      <td>1580178347</td>\n",
       "      <td>74</td>\n",
       "      <td>18.21</td>\n",
       "      <td>-71.10</td>\n",
       "      <td>77.59</td>\n",
       "      <td>6.33</td>\n",
       "    </tr>\n",
       "    <tr>\n",
       "      <th>555</th>\n",
       "      <td>edd</td>\n",
       "      <td>0</td>\n",
       "      <td>ER</td>\n",
       "      <td>1580178348</td>\n",
       "      <td>77</td>\n",
       "      <td>13.93</td>\n",
       "      <td>41.69</td>\n",
       "      <td>72.16</td>\n",
       "      <td>4.29</td>\n",
       "    </tr>\n",
       "    <tr>\n",
       "      <th>561</th>\n",
       "      <td>nadadores</td>\n",
       "      <td>0</td>\n",
       "      <td>MX</td>\n",
       "      <td>1580178348</td>\n",
       "      <td>32</td>\n",
       "      <td>27.05</td>\n",
       "      <td>-101.60</td>\n",
       "      <td>72.88</td>\n",
       "      <td>3.29</td>\n",
       "    </tr>\n",
       "  </tbody>\n",
       "</table>\n",
       "</div>"
      ],
      "text/plain": [
       "                 City  Cloudiness Country        Date  Humidity    Lat  \\\n",
       "30       san patricio           5      MX  1580178289        83  19.22   \n",
       "50   pontes e lacerda           4      BR  1580178291        86 -15.23   \n",
       "325             maues           3      BR  1580178321        87  -3.38   \n",
       "408          fougamou           0      GA  1580178331        95  -1.22   \n",
       "412           mandasa           4      IN  1580178332        73  18.87   \n",
       "547          barahona           1      DO  1580178347        74  18.21   \n",
       "555               edd           0      ER  1580178348        77  13.93   \n",
       "561         nadadores           0      MX  1580178348        32  27.05   \n",
       "\n",
       "        Lon  Max Temp  Wind Speed  \n",
       "30  -104.70     75.20        5.82  \n",
       "50   -59.34     75.76        1.57  \n",
       "325  -57.72     76.14        2.08  \n",
       "408   10.58     73.89        1.19  \n",
       "412   84.47     73.40        4.83  \n",
       "547  -71.10     77.59        6.33  \n",
       "555   41.69     72.16        4.29  \n",
       "561 -101.60     72.88        3.29  "
      ]
     },
     "execution_count": 4,
     "metadata": {},
     "output_type": "execute_result"
    }
   ],
   "source": [
    "# Dropping null values\n",
    "weather_df = weather_df.dropna()\n",
    "\n",
    "# Refining weather data to: Max Temp > 70 (F), Max Temp < 80 (F), Wind Speed < 10 mph, and Cloudiness < 10%\n",
    "hotel_df = weather_df[(weather_df['Max Temp'] > 70) & (weather_df['Max Temp'] < 80) & (weather_df['Wind Speed'] < 10) & (weather_df['Cloudiness'] < 10)] \n",
    "hotel_df"
   ]
  },
  {
   "cell_type": "markdown",
   "metadata": {},
   "source": [
    "### Hotel Map\n",
    "* Store into variable named `hotel_df`.\n",
    "* Add a \"Hotel Name\" column to the DataFrame.\n",
    "* Set parameters to search for hotels with 5000 meters.\n",
    "* Hit the Google Places API for each city's coordinates.\n",
    "* Store the first Hotel result into the DataFrame.\n",
    "* Plot markers on top of the heatmap."
   ]
  },
  {
   "cell_type": "code",
   "execution_count": 7,
   "metadata": {},
   "outputs": [
    {
     "name": "stderr",
     "output_type": "stream",
     "text": [
      "C:\\Users\\mildl\\Anaconda2\\envs\\PythonData\\lib\\site-packages\\pandas\\core\\indexing.py:376: SettingWithCopyWarning: \n",
      "A value is trying to be set on a copy of a slice from a DataFrame.\n",
      "Try using .loc[row_indexer,col_indexer] = value instead\n",
      "\n",
      "See the caveats in the documentation: http://pandas.pydata.org/pandas-docs/stable/user_guide/indexing.html#returning-a-view-versus-a-copy\n",
      "  self.obj[key] = _infer_fill_value(value)\n",
      "C:\\Users\\mildl\\Anaconda2\\envs\\PythonData\\lib\\site-packages\\pandas\\core\\indexing.py:494: SettingWithCopyWarning: \n",
      "A value is trying to be set on a copy of a slice from a DataFrame.\n",
      "Try using .loc[row_indexer,col_indexer] = value instead\n",
      "\n",
      "See the caveats in the documentation: http://pandas.pydata.org/pandas-docs/stable/user_guide/indexing.html#returning-a-view-versus-a-copy\n",
      "  self.obj[item] = s\n"
     ]
    },
    {
     "ename": "IndexError",
     "evalue": "list index out of range",
     "output_type": "error",
     "traceback": [
      "\u001b[1;31m---------------------------------------------------------------------------\u001b[0m",
      "\u001b[1;31mIndexError\u001b[0m                                Traceback (most recent call last)",
      "\u001b[1;32m<ipython-input-7-8f7b3b066c8a>\u001b[0m in \u001b[0;36m<module>\u001b[1;34m\u001b[0m\n\u001b[0;32m     30\u001b[0m     \u001b[1;31m# Results. Mostly, it just generates timeout errors and invalid_requests\u001b[0m\u001b[1;33m\u001b[0m\u001b[1;33m\u001b[0m\u001b[1;33m\u001b[0m\u001b[0m\n\u001b[0;32m     31\u001b[0m     \u001b[0mresponse\u001b[0m \u001b[1;33m=\u001b[0m \u001b[0mrequests\u001b[0m\u001b[1;33m.\u001b[0m\u001b[0mget\u001b[0m\u001b[1;33m(\u001b[0m\u001b[0mbase_url\u001b[0m\u001b[1;33m,\u001b[0m \u001b[0mparams\u001b[0m \u001b[1;33m=\u001b[0m \u001b[0mparams\u001b[0m\u001b[1;33m)\u001b[0m\u001b[1;33m.\u001b[0m\u001b[0mjson\u001b[0m\u001b[1;33m(\u001b[0m\u001b[1;33m)\u001b[0m\u001b[1;33m\u001b[0m\u001b[1;33m\u001b[0m\u001b[0m\n\u001b[1;32m---> 32\u001b[1;33m     \u001b[0mresults\u001b[0m \u001b[1;33m=\u001b[0m \u001b[0mresponse\u001b[0m\u001b[1;33m[\u001b[0m\u001b[1;34m'results'\u001b[0m\u001b[1;33m]\u001b[0m\u001b[1;33m[\u001b[0m\u001b[1;36m0\u001b[0m\u001b[1;33m]\u001b[0m\u001b[1;33m[\u001b[0m\u001b[1;34m'name'\u001b[0m\u001b[1;33m]\u001b[0m\u001b[1;33m\u001b[0m\u001b[1;33m\u001b[0m\u001b[0m\n\u001b[0m\u001b[0;32m     33\u001b[0m     \u001b[0mprint\u001b[0m\u001b[1;33m(\u001b[0m\u001b[0mresponse\u001b[0m\u001b[1;33m.\u001b[0m\u001b[0murl\u001b[0m\u001b[1;33m)\u001b[0m\u001b[1;33m\u001b[0m\u001b[1;33m\u001b[0m\u001b[0m\n\u001b[0;32m     34\u001b[0m \u001b[1;33m\u001b[0m\u001b[0m\n",
      "\u001b[1;31mIndexError\u001b[0m: list index out of range"
     ]
    }
   ],
   "source": [
    "# Adding the Hotel Name column\n",
    "hotel_df.loc[:,('Hotel Name')] = \"\"\n",
    "\n",
    "# I had only the best intentions in getting this trashfire to work. Between timeouts and too many instances of \n",
    "# hitting the api and being denied, I figured I'd just throw it here and hope for the best.\n",
    "\n",
    "# Setting necessary variables for radius, base_url, and the assorted parameters required to make the api work\n",
    "radius = 5000\n",
    "base_url = \"https://maps.googleapis.com/maps/api/place/nearbysearch/json\"\n",
    "params = {'radius': radius, \n",
    "          'type': 'lodging', \n",
    "          'key': g_key,}\n",
    "\n",
    "# Using iterrows() to process through the hotel_df\n",
    "for index, row in hotel_df.iterrows():\n",
    "    \n",
    "    # Pulling lat(itude) and lon(gitude) from the row (which in turn comes from the hotel_df)\n",
    "    hotel_lat = row['Lat']\n",
    "    hotel_lon = row['Lon']\n",
    "    \n",
    "    # Storing the lat and lon to be used in the api\n",
    "    hotel_lat_lon = hotel_lat,hotel_lon\n",
    "    \n",
    "    # Setting hotel_loc as the variable to store the combined lat and lon\n",
    "    # Setting it as a parameter 'location' within the params dictionary\n",
    "    hotel_loc = hotel_lat_lon\n",
    "    params['location'] = hotel_loc\n",
    "    \n",
    "    # Ostensibly, this gets the information and pulls the name of the hotel from the \n",
    "    # Results. Mostly, it just generates timeout errors and invalid_requests\n",
    "    response = requests.get(base_url, params = params).json()\n",
    "    results = response['results'][0]['name']\n",
    "    print(response.url)\n",
    "    \n",
    "    # Setting the try/except loop\n",
    "    try:\n",
    "        hotel_df.loc[index, 'Hotel Name'] = results\n",
    "       \n",
    "    except (KeyError, IndexError):\n",
    "        print(\"Missing Data: Skipping \" + city)\n",
    "        pass"
   ]
  },
  {
   "cell_type": "code",
   "execution_count": null,
   "metadata": {},
   "outputs": [],
   "source": []
  },
  {
   "cell_type": "code",
   "execution_count": 8,
   "metadata": {},
   "outputs": [],
   "source": [
    "# NOTE: Do not change any of the code in this cell\n",
    "\n",
    "# Using the template add the hotel marks to the heatmap\n",
    "info_box_template = \"\"\"\n",
    "<dl>\n",
    "<dt>Name</dt><dd>{Hotel Name}</dd>\n",
    "<dt>City</dt><dd>{City}</dd>\n",
    "<dt>Country</dt><dd>{Country}</dd>\n",
    "</dl>\n",
    "\"\"\"\n",
    "# Store the DataFrame Row\n",
    "# NOTE: be sure to update with your DataFrame name\n",
    "hotel_info = [info_box_template.format(**row) for index, row in hotel_df.iterrows()]\n",
    "locations = hotel_df[['Lat', 'Lon']]"
   ]
  },
  {
   "cell_type": "code",
   "execution_count": 9,
   "metadata": {},
   "outputs": [
    {
     "data": {
      "application/vnd.jupyter.widget-view+json": {
       "model_id": "e7697ceacc8148b5abd27879cd2cbf2b",
       "version_major": 2,
       "version_minor": 0
      },
      "text/plain": [
       "Figure(layout=FigureLayout(height='420px'))"
      ]
     },
     "metadata": {},
     "output_type": "display_data"
    }
   ],
   "source": [
    "# Add marker layer ontop of heat map\n",
    "marker_layer = gmaps.marker_layer(locations, info_box_content=hotel_info)\n",
    "base_map.add_layer(marker_layer)\n",
    "# Display Map\n",
    "\n",
    "base_map"
   ]
  },
  {
   "cell_type": "code",
   "execution_count": null,
   "metadata": {},
   "outputs": [],
   "source": []
  }
 ],
 "metadata": {
  "kernelspec": {
   "display_name": "Python 3",
   "language": "python",
   "name": "python3"
  },
  "language_info": {
   "codemirror_mode": {
    "name": "ipython",
    "version": 3
   },
   "file_extension": ".py",
   "mimetype": "text/x-python",
   "name": "python",
   "nbconvert_exporter": "python",
   "pygments_lexer": "ipython3",
   "version": "3.6.9"
  },
  "latex_envs": {
   "LaTeX_envs_menu_present": true,
   "autoclose": false,
   "autocomplete": true,
   "bibliofile": "biblio.bib",
   "cite_by": "apalike",
   "current_citInitial": 1,
   "eqLabelWithNumbers": true,
   "eqNumInitial": 1,
   "hotkeys": {
    "equation": "Ctrl-E",
    "itemize": "Ctrl-I"
   },
   "labels_anchors": false,
   "latex_user_defs": false,
   "report_style_numbering": false,
   "user_envs_cfg": false
  }
 },
 "nbformat": 4,
 "nbformat_minor": 2
}
